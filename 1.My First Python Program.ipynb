{
 "cells": [
  {
   "cell_type": "markdown",
   "metadata": {},
   "source": [
    "# Starting With Python"
   ]
  },
  {
   "cell_type": "markdown",
   "metadata": {},
   "source": [
    "##### Python Version For This Video Series: Python 3.11.7"
   ]
  },
  {
   "cell_type": "markdown",
   "metadata": {},
   "source": []
  },
  {
   "cell_type": "markdown",
   "metadata": {},
   "source": [
    "### Important Keyboard Shortcuts (Jupyter Notebook)"
   ]
  },
  {
   "cell_type": "code",
   "execution_count": null,
   "metadata": {},
   "outputs": [],
   "source": [
    "'''\n",
    "1. ctrl+enter: run the selected cell\n",
    "2. ctrl+/: comment out all the selected lines\n",
    "'''"
   ]
  },
  {
   "cell_type": "markdown",
   "metadata": {},
   "source": [
    "#### \"print() function\""
   ]
  },
  {
   "cell_type": "code",
   "execution_count": 14,
   "metadata": {},
   "outputs": [
    {
     "name": "stdout",
     "output_type": "stream",
     "text": [
      "Hi! My name is Krishang\n",
      "\n",
      "\n",
      "\n",
      "I live in Delhi.\n"
     ]
    }
   ],
   "source": [
    "print(\"Hi! My name is Krishang\")\n",
    "# \"     \": Double quotes\n",
    "# '     ': Single Quote\n",
    "    #       #: Hash is used for commenting out certain parts of your code.\n",
    "print('I live in Delhi.')"
   ]
  },
  {
   "cell_type": "markdown",
   "metadata": {},
   "source": [
    "#### \"Variable allocation along with print function\""
   ]
  },
  {
   "cell_type": "code",
   "execution_count": 32,
   "metadata": {},
   "outputs": [
    {
     "name": "stdout",
     "output_type": "stream",
     "text": [
      "Krishang\n",
      "Delhi\n",
      "\"Krishang\"\n"
     ]
    }
   ],
   "source": [
    "name=\"Krishang\"\n",
    "city=\"Delhi\"\n",
    "name_with_double_quotes='\"Krishang\"'\n",
    "\n",
    "print(name)\n",
    "print(city)\n",
    "print(name_with_double_quotes)"
   ]
  },
  {
   "cell_type": "code",
   "execution_count": 26,
   "metadata": {},
   "outputs": [
    {
     "name": "stdout",
     "output_type": "stream",
     "text": [
      "\n"
     ]
    }
   ],
   "source": []
  },
  {
   "cell_type": "markdown",
   "metadata": {},
   "source": [
    "#### \"input() function\""
   ]
  },
  {
   "cell_type": "code",
   "execution_count": 28,
   "metadata": {},
   "outputs": [
    {
     "name": "stdout",
     "output_type": "stream",
     "text": [
      "\"krishang\"\n"
     ]
    }
   ],
   "source": [
    "name_variable_or_carrybag=input() #\"krishang\"\n",
    "print(name_variable_or_carrybag)"
   ]
  },
  {
   "cell_type": "code",
   "execution_count": 43,
   "metadata": {},
   "outputs": [],
   "source": [
    "def do():\n",
    "    print('Krishang')"
   ]
  },
  {
   "cell_type": "code",
   "execution_count": 45,
   "metadata": {},
   "outputs": [
    {
     "name": "stdout",
     "output_type": "stream",
     "text": [
      "Krishang\n",
      "Krishang\n",
      "Krishang\n"
     ]
    }
   ],
   "source": [
    "name_variable='Krishang'\n",
    "name_variable2=\"Krishang\"\n",
    "age_variable=21\n",
    "\n",
    "# # print(type(name_variable))\n",
    "# # print(type(name_variable2))\n",
    "# # print(type(age_variable))\n",
    "\n",
    "# # (type(name_variable)) #str\n",
    "# # (type(name_variable2)) #str\n",
    "# # (type(age_variable)) #int\n",
    "# do()\n",
    "# do()\n",
    "# do()"
   ]
  },
  {
   "cell_type": "markdown",
   "metadata": {},
   "source": [
    "#### Usage of Format"
   ]
  },
  {
   "cell_type": "code",
   "execution_count": null,
   "metadata": {},
   "outputs": [],
   "source": []
  },
  {
   "cell_type": "code",
   "execution_count": 66,
   "metadata": {},
   "outputs": [
    {
     "name": "stdout",
     "output_type": "stream",
     "text": [
      "input the name:\n",
      "input the city:\n",
      "input the age:\n",
      "Hi! My name is \n",
      "I live in \n",
      "my age is \n",
      "Hi! My name is krishang. I live in gurgaon and my age is 100.\n"
     ]
    }
   ],
   "source": [
    "print('input the name:')\n",
    "name=input()\n",
    "print('input the city:')\n",
    "city=input()\n",
    "print('input the age:')\n",
    "age=input()\n",
    "#print(\"Hi! My name is Krishang. I live in Delhi. My age is 21\")\n",
    "\n",
    "#1. Usage of format concept\n",
    "#2. Usage of operators (+)\n",
    "\n",
    "\n",
    "#Usage of operator\n",
    "# print(\"Hi! My name is \"+name,end=\".\")\n",
    "# print(\"I live in \"+city,end=' and ')\n",
    "# print(\"my age is \"+age)\n",
    "\n",
    "#Usage of format\n",
    "print(\"Hi! My name is \")\n",
    "print(\"I live in \")\n",
    "print(\"my age is \")\n",
    "\n",
    "print(f\"Hi! My name is {name}. I live in {city} and my age is {age}.\")"
   ]
  },
  {
   "cell_type": "markdown",
   "metadata": {},
   "source": [
    "#### Things to take care of"
   ]
  },
  {
   "cell_type": "code",
   "execution_count": null,
   "metadata": {},
   "outputs": [],
   "source": [
    "# 1. ' (single quote) and \"\" (double quote)\n",
    "# 2. / (forward slash)\n",
    "# 3. \\ (backward slash)"
   ]
  },
  {
   "cell_type": "code",
   "execution_count": 83,
   "metadata": {},
   "outputs": [
    {
     "ename": "SyntaxError",
     "evalue": "unterminated string literal (detected at line 5) (1493987622.py, line 5)",
     "output_type": "error",
     "traceback": [
      "\u001b[1;36m  Cell \u001b[1;32mIn[83], line 5\u001b[1;36m\u001b[0m\n\u001b[1;33m    print('\\')\u001b[0m\n\u001b[1;37m          ^\u001b[0m\n\u001b[1;31mSyntaxError\u001b[0m\u001b[1;31m:\u001b[0m unterminated string literal (detected at line 5)\n"
     ]
    }
   ],
   "source": [
    "# print('this is a string')\n",
    "# print(\"this is a string\")\n",
    "\n",
    "#print(\"I love krishang's lectures\")\n"
   ]
  }
 ],
 "metadata": {
  "kernelspec": {
   "display_name": ".venv",
   "language": "python",
   "name": "python3"
  },
  "language_info": {
   "codemirror_mode": {
    "name": "ipython",
    "version": 3
   },
   "file_extension": ".py",
   "mimetype": "text/x-python",
   "name": "python",
   "nbconvert_exporter": "python",
   "pygments_lexer": "ipython3",
   "version": "3.11.7"
  }
 },
 "nbformat": 4,
 "nbformat_minor": 2
}
