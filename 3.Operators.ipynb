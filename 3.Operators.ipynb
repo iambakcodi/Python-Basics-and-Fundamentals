{
 "cells": [
  {
   "cell_type": "markdown",
   "metadata": {
    "vscode": {
     "languageId": "bat"
    }
   },
   "source": [
    "# Operators and Precedence (First to Last)"
   ]
  },
  {
   "cell_type": "markdown",
   "metadata": {},
   "source": [
    "In Python, operators are special symbols or keywords that perform operations on operands. "
   ]
  },
  {
   "cell_type": "markdown",
   "metadata": {},
   "source": [
    "#### Types of Operators:"
   ]
  },
  {
   "cell_type": "code",
   "execution_count": 82,
   "metadata": {},
   "outputs": [],
   "source": [
    "#Arithmetic Operators\n",
    "1. () (Parenthesis)\n",
    "\n",
    "2. ** (Exponential) #Power Operator\n",
    "\n",
    "3. /  (Division)\n",
    "\n",
    "# Same Precedence. One that comes first in the expression is executed first:  (4*10//19)=2 , (4//2*19)=38\n",
    "4. *  (Multiplication), // (Floor Division) #Lower Integer Operator  \n",
    "\n",
    "5. % (Modulo) #Remainder Operator \n",
    " \n",
    "7. +  (Addition)\n",
    "\n",
    "8. -  (Subtraction)\n",
    "\n",
    "'''\n",
    "Use () to change the order\n",
    "'''\n"
   ]
  },
  {
   "cell_type": "markdown",
   "metadata": {},
   "source": [
    "# Arithmetic Operators Exercise"
   ]
  },
  {
   "cell_type": "code",
   "execution_count": null,
   "metadata": {},
   "outputs": [],
   "source": []
  },
  {
   "cell_type": "code",
   "execution_count": 63,
   "metadata": {},
   "outputs": [
    {
     "name": "stdout",
     "output_type": "stream",
     "text": [
      "2.1052631578947367\n",
      "2\n",
      "38\n",
      "4\n",
      "4\n",
      "0.0\n",
      "13\n"
     ]
    }
   ],
   "source": [
    "print(4*10/19) #40/19\n",
    "\n",
    "'Important'\n",
    "print(4*10//19) #2\n",
    "print(4//2*19)  #38\n",
    "\n",
    "print(4+10//19)#4\n",
    "print(4-10//19)#4\n",
    "print(4/10//19)#0.0\n",
    "print(4**4//19) #256//19"
   ]
  },
  {
   "cell_type": "code",
   "execution_count": 64,
   "metadata": {},
   "outputs": [
    {
     "data": {
      "text/plain": [
       "5.0"
      ]
     },
     "execution_count": 64,
     "metadata": {},
     "output_type": "execute_result"
    }
   ],
   "source": [
    "10/2"
   ]
  },
  {
   "cell_type": "code",
   "execution_count": 65,
   "metadata": {},
   "outputs": [
    {
     "data": {
      "text/plain": [
       "5"
      ]
     },
     "execution_count": 65,
     "metadata": {},
     "output_type": "execute_result"
    }
   ],
   "source": [
    "10//2"
   ]
  },
  {
   "cell_type": "code",
   "execution_count": 66,
   "metadata": {},
   "outputs": [
    {
     "data": {
      "text/plain": [
       "15.0"
      ]
     },
     "execution_count": 66,
     "metadata": {},
     "output_type": "execute_result"
    }
   ],
   "source": [
    "10*1.5"
   ]
  },
  {
   "cell_type": "code",
   "execution_count": 76,
   "metadata": {},
   "outputs": [
    {
     "name": "stdout",
     "output_type": "stream",
     "text": [
      "16.0\n",
      "16.0\n",
      "20.0\n",
      "20.0\n",
      "20.0\n",
      "20.0\n"
     ]
    }
   ],
   "source": [
    "print(40/2.5)\n",
    "print(40//2.5)\n",
    "print(40.0/2)\n",
    "print(40.0//2)\n",
    "print(40.0/2.0)\n",
    "print(40.0//2.0)"
   ]
  },
  {
   "cell_type": "code",
   "execution_count": 62,
   "metadata": {},
   "outputs": [
    {
     "name": "stdout",
     "output_type": "stream",
     "text": [
      "45.0\n",
      "45\n",
      "25\n",
      "7.0\n",
      "21.0\n",
      "25\n"
     ]
    }
   ],
   "source": [
    "print((5 + 4) * 10 / 2) #45.0\n",
    "print((5 + 4) * 10 // 2) #45\n",
    "print(5 + 4 * 10 // 2)  #25\n",
    "\n",
    "print((5 + 4+1) * 1.5 // 2) #7.0\n",
    "\n",
    "print(5 + (4 * 10) / 2.5) # 5+40/2.5=5+16.0=21.0\n",
    "\n",
    "'Important'\n",
    "print(5 + 4 * 10 // 19 * 10) # 5+40//19*10\n",
    "                             # 5+2*10\n",
    "                             # 5+20=25\n"
   ]
  },
  {
   "cell_type": "code",
   "execution_count": null,
   "metadata": {},
   "outputs": [],
   "source": []
  },
  {
   "cell_type": "code",
   "execution_count": null,
   "metadata": {},
   "outputs": [],
   "source": []
  },
  {
   "cell_type": "code",
   "execution_count": 81,
   "metadata": {},
   "outputs": [
    {
     "data": {
      "text/plain": [
       "True"
      ]
     },
     "execution_count": 81,
     "metadata": {},
     "output_type": "execute_result"
    }
   ],
   "source": [
    "a=2 #assignment operator\n",
    "\n",
    "a+2==4 #equal to"
   ]
  },
  {
   "cell_type": "code",
   "execution_count": 3,
   "metadata": {},
   "outputs": [
    {
     "ename": "SyntaxError",
     "evalue": "invalid syntax. Perhaps you forgot a comma? (3484221606.py, line 2)",
     "output_type": "error",
     "traceback": [
      "\u001b[1;36m  Cell \u001b[1;32mIn[3], line 2\u001b[1;36m\u001b[0m\n\u001b[1;33m    1.<  (Less Than)\u001b[0m\n\u001b[1;37m          ^\u001b[0m\n\u001b[1;31mSyntaxError\u001b[0m\u001b[1;31m:\u001b[0m invalid syntax. Perhaps you forgot a comma?\n"
     ]
    }
   ],
   "source": [
    "#Comparison Operators\n",
    "1.<  (Less Than)\n",
    "2.<= (Less Than Equal To)\n",
    "3.>  (Greater Than)\n",
    "4.>= (Greater Than Equal To)\n",
    "5.== (Equal to)\n",
    "6.!= (Not equal to)\n",
    "\n",
    "\n"
   ]
  },
  {
   "cell_type": "markdown",
   "metadata": {},
   "source": [
    "Compare two values and return a Boolean result based on the relationship between them (equal to, not equal to, less than, greater than, less than or equal to, greater than or equal to)."
   ]
  },
  {
   "cell_type": "code",
   "execution_count": 89,
   "metadata": {},
   "outputs": [
    {
     "data": {
      "text/plain": [
       "False"
      ]
     },
     "execution_count": 89,
     "metadata": {},
     "output_type": "execute_result"
    }
   ],
   "source": [
    "a=2\n",
    "b=3\n",
    "not(a==2) #not(True) #False"
   ]
  },
  {
   "cell_type": "code",
   "execution_count": null,
   "metadata": {},
   "outputs": [],
   "source": [
    "#Logical Operators\n",
    "1.not (Logical NOT)\n",
    "2.and (Logical AND)\n",
    "3.or (Logical OR)\n",
    "\n"
   ]
  },
  {
   "cell_type": "markdown",
   "metadata": {},
   "source": [
    "Combine or modify Boolean values using logical operations:\n",
    "1. and returns True if both operands are True\n",
    "2. or returns True if at least one operand is True\n",
    "3. not returns the opposite of the operand's Boolean value."
   ]
  },
  {
   "cell_type": "code",
   "execution_count": 83,
   "metadata": {},
   "outputs": [
    {
     "data": {
      "text/plain": [
       "22"
      ]
     },
     "execution_count": 83,
     "metadata": {},
     "output_type": "execute_result"
    }
   ],
   "source": [
    "a=20"
   ]
  },
  {
   "cell_type": "code",
   "execution_count": null,
   "metadata": {},
   "outputs": [],
   "source": [
    "#Assignment Operators (No as such precedence)\n",
    "= (Assignment)\n",
    "+= (Addition assignment)\n",
    "-= (Subtraction assignment)\n",
    "*= (Multiplication assignment)\n",
    "/= (Division assignment)\n",
    "%= (Modulus assignment)\n",
    "**= (Exponentiation assignment)\n",
    "//= (Floor Division assignment)\n",
    "\n",
    "\n"
   ]
  },
  {
   "cell_type": "markdown",
   "metadata": {},
   "source": [
    "Assign values to variables. Examples include =, +=, -=, *=, /=, %=, **=, and //=, which perform operations while assigning values."
   ]
  },
  {
   "cell_type": "code",
   "execution_count": null,
   "metadata": {},
   "outputs": [],
   "source": []
  },
  {
   "cell_type": "code",
   "execution_count": null,
   "metadata": {},
   "outputs": [],
   "source": []
  },
  {
   "cell_type": "markdown",
   "metadata": {},
   "source": [
    "### Binary Calculations"
   ]
  },
  {
   "cell_type": "markdown",
   "metadata": {},
   "source": [
    "_______________________________________________________\n",
    "Binary Addition Rules\n",
    "The addition of two binary numbers is as easy as the decimal number system. Just we have to take note of some rules while adding two binary numbers. There are four-five rules associated with binary addition. The binary addition rules are as follows.\n",
    "\n",
    "0 + 0 = 0\n",
    "\n",
    "0 + 1 = 1\n",
    "\n",
    "1 + 0 = 1\n",
    "\n",
    "1 + 1 =10 ( carry 1 to the next significant bit)\n",
    "\n",
    "1 + 1 + 1 = 11( carry 1 to the next significant bit)\n",
    "\n",
    "As binary numbers include only two digits i.e. 0 and 1, these four five rules are all the possible conditions for the addition of binary numbers."
   ]
  },
  {
   "cell_type": "markdown",
   "metadata": {},
   "source": [
    "__________________________________________________\n",
    "Binary Subtraction Rules \n",
    "1 - 1 = 0\n",
    "\n",
    "1 - 0 = 1\n",
    "\n",
    "0 - 1 = 1 ( you can borrow 1 from the next number)\n",
    "\n",
    "0 - 0 = 0"
   ]
  },
  {
   "cell_type": "code",
   "execution_count": null,
   "metadata": {},
   "outputs": [],
   "source": [
    "#Bitwise Operators\n",
    "1.~ (Bitwise NOT): takes one number and inverts all bits of it\n",
    "2.<< (Left shift): takes two numbers, the left shifts the bits of the first operand, and the second operand decides the number of places to shift and moves to next bit\n",
    "3.>> (Right shift): takes two numbers, right shifts the bits of the first operand, and the second operand decides the number of places to shift and moves to next bit\n",
    "4.& (Bitwise AND): takes two numbers as operands and does AND on every bit of two numbers.Sets the result bit to 1 only if both corresponding bits are 1 and moves to next bit\n",
    "5.^ (Bitwise XOR): takes two numbers as operands and does XOR on every bit of two numbers. The result of XOR bit is 1 if the two bits are different and moves to next bit\n",
    "6.| (Bitwise OR): takes two numbers as operands and does OR on every bit of two numbers. The result of OR is 1 if any of the two bits is 1 and moves to next bit"
   ]
  },
  {
   "cell_type": "markdown",
   "metadata": {},
   "source": [
    "Perform bit-level operations on integers. Operators include & (AND), | (OR), ^ (XOR), ~ (NOT), << (left shift), and >> (right shift).\n",
    "\n",
    "It compares the binary representation of each bit position between two integers "
   ]
  },
  {
   "cell_type": "code",
   "execution_count": 39,
   "metadata": {},
   "outputs": [
    {
     "name": "stdout",
     "output_type": "stream",
     "text": [
      "2\n"
     ]
    }
   ],
   "source": [
    "a = 6  # Binary: 0110\n",
    "b = 3  # Binary: 0011\n",
    "#a&b=    Binary: 0010=>Integer:2\n",
    "result = a & b  \n",
    "print(result)"
   ]
  },
  {
   "cell_type": "code",
   "execution_count": 40,
   "metadata": {},
   "outputs": [
    {
     "name": "stdout",
     "output_type": "stream",
     "text": [
      "7\n"
     ]
    }
   ],
   "source": [
    "a = 6  # Binary: 0110\n",
    "b = 3  # Binary: 0011\n",
    "#a!b=    Binary: 0111\n",
    "result = a | b  # Binary result: 0111 which is binary of  \n",
    "print(result)"
   ]
  },
  {
   "cell_type": "code",
   "execution_count": 32,
   "metadata": {},
   "outputs": [
    {
     "name": "stdout",
     "output_type": "stream",
     "text": [
      "0b11\n"
     ]
    }
   ],
   "source": [
    "#print(int(str(bin(6)),2))\n",
    "print(bin(3))"
   ]
  },
  {
   "cell_type": "code",
   "execution_count": null,
   "metadata": {},
   "outputs": [],
   "source": []
  },
  {
   "cell_type": "code",
   "execution_count": null,
   "metadata": {},
   "outputs": [],
   "source": [
    "#Membership Operators\n",
    "in (True if a value is found in the sequence)\n",
    "not in (True if a value is not found in the sequence)"
   ]
  },
  {
   "cell_type": "markdown",
   "metadata": {},
   "source": [
    "Test whether a value is a member of a sequence (e.g., list, tuple, string). in returns True if the value is found in the sequence, and not in returns True if the value is not found."
   ]
  },
  {
   "cell_type": "code",
   "execution_count": null,
   "metadata": {},
   "outputs": [],
   "source": []
  },
  {
   "cell_type": "code",
   "execution_count": null,
   "metadata": {},
   "outputs": [],
   "source": [
    "#Identity Operators\n",
    "is (True if the operands are identical)\n",
    "is not (True if the operands are not identical)\n",
    "\n",
    "'''\n",
    "Use is when you want to check if two variables refer to the same object.\n",
    "Use == when you want to check if two variables have the same values, regardless of whether they are the same object or not.\n",
    "'''"
   ]
  },
  {
   "cell_type": "markdown",
   "metadata": {},
   "source": [
    "Compare the identity of two objects. is returns True if both variables reference the same object, and is not returns True if they reference different objects."
   ]
  },
  {
   "cell_type": "code",
   "execution_count": null,
   "metadata": {},
   "outputs": [],
   "source": []
  }
 ],
 "metadata": {
  "kernelspec": {
   "display_name": ".venv",
   "language": "python",
   "name": "python3"
  },
  "language_info": {
   "codemirror_mode": {
    "name": "ipython",
    "version": 3
   },
   "file_extension": ".py",
   "mimetype": "text/x-python",
   "name": "python",
   "nbconvert_exporter": "python",
   "pygments_lexer": "ipython3",
   "version": "3.11.8"
  }
 },
 "nbformat": 4,
 "nbformat_minor": 2
}
